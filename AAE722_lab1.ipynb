{
 "cells": [
  {
   "cell_type": "markdown",
   "id": "b5650ca4-ab47-48bb-b18e-1d373ac087dc",
   "metadata": {},
   "source": [
    "# This is my first Jupyter notebook.\n",
    "## Created on Sep 6th, 2024\n"
   ]
  },
  {
   "cell_type": "code",
   "execution_count": 2,
   "id": "3954cc91-83cb-4023-96ec-3c1374ac8e58",
   "metadata": {
    "tags": []
   },
   "outputs": [
    {
     "name": "stdout",
     "output_type": "stream",
     "text": [
      "[1, 2, 3]\n",
      "[1, 2, 3, 2, 3, 4]\n"
     ]
    }
   ],
   "source": [
    "x = [1, 2, 3]\n",
    "print(x)\n",
    "\n",
    "y = [2, 3, 4]\n",
    "print(x+y)"
   ]
  },
  {
   "cell_type": "code",
   "execution_count": 5,
   "id": "8f195558-99bf-4628-b88b-a271c002ce19",
   "metadata": {
    "tags": []
   },
   "outputs": [
    {
     "name": "stdout",
     "output_type": "stream",
     "text": [
      "[1 2 3]\n",
      "[3 5 7]\n"
     ]
    }
   ],
   "source": [
    "import numpy as np\n",
    "x = np.array([1, 2, 3])\n",
    "print(x)\n",
    "\n",
    "y = np.array([2, 3, 4])\n",
    "print(x+y)"
   ]
  },
  {
   "cell_type": "code",
   "execution_count": 1,
   "id": "cc316c2a-05d7-4fa0-93a2-f7d922a7774f",
   "metadata": {
    "tags": []
   },
   "outputs": [
    {
     "name": "stdout",
     "output_type": "stream",
     "text": [
      "4\n"
     ]
    }
   ],
   "source": [
    "a = 1\n",
    "b = 3\n",
    "c = a+b\n",
    "print(c)"
   ]
  },
  {
   "cell_type": "markdown",
   "id": "a8aab3f1-2bbf-41d3-adf3-c6e7f964fd21",
   "metadata": {},
   "source": [
    "# Second content"
   ]
  }
 ],
 "metadata": {
  "kernelspec": {
   "display_name": "Python 3 (ipykernel)",
   "language": "python",
   "name": "python3"
  },
  "language_info": {
   "codemirror_mode": {
    "name": "ipython",
    "version": 3
   },
   "file_extension": ".py",
   "mimetype": "text/x-python",
   "name": "python",
   "nbconvert_exporter": "python",
   "pygments_lexer": "ipython3",
   "version": "3.11.4"
  }
 },
 "nbformat": 4,
 "nbformat_minor": 5
}
