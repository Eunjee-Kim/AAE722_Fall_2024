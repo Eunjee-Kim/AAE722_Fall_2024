{
 "cells": [
  {
   "cell_type": "markdown",
   "metadata": {},
   "source": [
    "Complete the following: \n",
    "\n",
    "Generate a simulated data set with 20 observations in each of three classes (i.e. 60 observations total), and 50 variables.\n",
    "\n",
    "Hint: There are a number of functions in Python that you can use to generate data. One example is the normal() method of the random() function in numpy; the uniform() method is another option. Be sure to add a mean shift to the observations in each class so that there are three distinct classes.\n",
    "\n",
    "Perform PCA on the 60 observations and plot the first two principal component score vectors. Use a different color to indicate the observations in each of the three classes. If the three classes appear separated in this plot, then continue on to part 3. If not, then return to part 1 and modify the simulation so that there is greater separation between the three classes. Do not continue to part 3 until the three classes show at least some separation in the first two principal component score vectors.\n",
    "\n",
    "Perform K-means clustering of the observations with K = 3. How well do the clusters that you obtained in K-means cluster- ing compare to the true class labels?\n",
    "\n",
    "Hint: You can use the pd.crosstab() function in Python to compare the true class labels to the class labels obtained by clustering. Be careful how you interpret the results: K-means clustering will arbitrarily number the clusters, so you cannot simply check whether the true class labels and clustering labels are the same.\n",
    "\n",
    "Perform K-means clustering with K = 2. Describe your results.\n",
    "\n",
    "Now perform K-means clustering with K = 4, and describe your results. \n",
    "\n",
    "Now perform K-means clustering with K = 3 on the first two principal component score vectors, rather than on the raw data. That is, perform K-means clustering on the 60 × 2 matrix of which the first column is the first principal component score vector, and the second column is the second principal component score vector. Comment on the results.\n",
    "\n",
    "Using the StandardScaler() estimator, perform K-means clustering with K = 3 on the data after scaling each variable to have standard deviation one. How do these results compare to those obtained in (b)? Explain."
   ]
  },
  {
   "cell_type": "code",
   "execution_count": 13,
   "metadata": {},
   "outputs": [
    {
     "name": "stdout",
     "output_type": "stream",
     "text": [
      "         0         1         2         3         4         5         6   \\\n",
      "0  1.764052  0.400157  0.978738  2.240893  1.867558 -0.977278  0.950088   \n",
      "1 -0.895467  0.386902 -0.510805 -1.180632 -0.028182  0.428332  0.066517   \n",
      "2  1.883151 -1.347759 -1.270485  0.969397 -1.173123  1.943621 -0.413619   \n",
      "3 -0.068242  1.713343 -0.744755 -0.826439 -0.098453 -0.663478  1.126636   \n",
      "4 -0.369182 -0.239379  1.099660  0.655264  0.640132 -1.616956 -0.024326   \n",
      "\n",
      "         7         8         9   ...        40        41        42        43  \\\n",
      "0 -0.151357 -0.103219  0.410599  ... -1.048553 -1.420018 -1.706270  1.950775   \n",
      "1  0.302472 -0.634322 -0.362741  ... -0.403177  1.222445  0.208275  0.976639   \n",
      "2 -0.747455  1.922942  1.480515  ... -1.491258  0.439392  0.166673  0.635031   \n",
      "3 -1.079932 -1.147469 -0.437820  ... -1.292857  0.267051 -0.039283 -1.168093   \n",
      "4 -0.738031  0.279925 -0.098150  ... -0.637437 -0.397272 -0.132881 -0.297791   \n",
      "\n",
      "         44        45        46        47        48        49  \n",
      "0 -0.509652 -0.438074 -1.252795  0.777490 -1.613898 -0.212740  \n",
      "1  0.356366  0.706573  0.010500  1.785870  0.126912  0.401989  \n",
      "2  2.383145  0.944479 -0.912822  1.117016 -1.315907 -0.461585  \n",
      "3  0.523277 -0.171546  0.771791  0.823504  2.163236  1.336528  \n",
      "4 -0.309013 -1.676004  1.152332  1.079619 -0.813364 -1.466424  \n",
      "\n",
      "[5 rows x 50 columns]\n"
     ]
    }
   ],
   "source": [
    "# Generate a simulated data set with 20 observations in each of three classes \n",
    "# (i.e. 60 observations total), and 50 variables.\n",
    "\n",
    "# Hint: There are a number of functions in Python that you can use to generate data. \n",
    "# One example is the normal() method of the random() function in numpy; the uniform() \n",
    "# method is another option. Be sure to add a mean shift to the observations in each \n",
    "# class so that there are three distinct classes.\n",
    "\n",
    "import numpy as np\n",
    "import pandas as pd\n",
    "\n",
    "# Set random seed\n",
    "np.random.seed(0)\n",
    "\n",
    "# Generate data\n",
    "data = np.random.normal(0, 1, (60, 50))\n",
    "\n",
    "# Add mean shift to the observations in each class\n",
    "# data[:20] += 2\n",
    "data[20:40] += 5\n",
    "data[40:] += 8\n",
    "\n",
    "# Create a DataFrame\n",
    "df = pd.DataFrame(data)\n",
    "print(df.head())"
   ]
  },
  {
   "cell_type": "code",
   "execution_count": 15,
   "metadata": {},
   "outputs": [
    {
     "data": {
      "image/png": "[encoded data removed]",
      "text/plain": [
       "<Figure size 640x480 with 1 Axes>"
      ]
     },
     "metadata": {},
     "output_type": "display_data"
    }
   ],
   "source": [
    "# Perform PCA on the 60 observations and plot the first two principal component score vectors.\n",
    "# Use a different color to indicate the observations in each of the three classes. \n",
    "# If the three classes appear separated in this plot, then continue on to part 3. \n",
    "# If not, then return to part 1 and modify the simulation so that there is greater \n",
    "# separation between the three classes. Do not continue to part 3 until the three classes \n",
    "# show at least some separation in the first two principal component score vectors.\n",
    "\n",
    "import matplotlib.pyplot as plt\n",
    "from sklearn.decomposition import PCA\n",
    "\n",
    "# Perform PCA\n",
    "pca = PCA(n_components=2)\n",
    "pca.fit(df)\n",
    "scores = pca.transform(df)\n",
    "\n",
    "# Plot the first two principal component score vectors\n",
    "plt.scatter(scores[:20, 0], scores[:20, 1], color='r', label='Class 1')\n",
    "plt.scatter(scores[20:40, 0], scores[20:40, 1], color='g', label='Class 2')\n",
    "plt.scatter(scores[40:, 0], scores[40:, 1], color='b', label='Class 3')\n",
    "plt.xlabel('PC1')\n",
    "plt.ylabel('PC2')\n",
    "plt.legend()\n",
    "plt.show()\n",
    "\n",
    "# The three classes are well separated in the first two principal component score vectors."
   ]
  },
  {
   "cell_type": "code",
   "execution_count": 21,
   "metadata": {},
   "outputs": [
    {
     "data": {
      "text/plain": [
       "(60, 50)"
      ]
     },
     "execution_count": 21,
     "metadata": {},
     "output_type": "execute_result"
    }
   ],
   "source": [
    "df.shape"
   ]
  },
  {
   "cell_type": "code",
   "execution_count": 22,
   "metadata": {},
   "outputs": [
    {
     "name": "stdout",
     "output_type": "stream",
     "text": [
      "Defaulting to user installation because normal site-packages is not writeable\n",
      "Requirement already satisfied: scikit-learn in c:\\programdata\\anaconda3\\lib\\site-packages (1.3.0)\n",
      "Collecting scikit-learn\n",
      "  Obtaining dependency information for scikit-learn from https://files.pythonhosted.org/packages/17/1c/ccdd103cfcc9435a18819856fbbe0c20b8fa60bfc3343580de4be13f0668/scikit_learn-1.5.2-cp311-cp311-win_amd64.whl.metadata\n",
      "  Downloading scikit_learn-1.5.2-cp311-cp311-win_amd64.whl.metadata (13 kB)\n",
      "Requirement already satisfied: numpy in c:\\users\\ekim298\\appdata\\roaming\\python\\python311\\site-packages (1.24.4)\n",
      "Collecting numpy\n",
      "  Obtaining dependency information for numpy from https://files.pythonhosted.org/packages/1e/48/a9a4b538e28f854bfb62e1dea3c8fea12e90216a276c7777ae5345ff29a7/numpy-2.1.3-cp311-cp311-win_amd64.whl.metadata\n",
      "  Downloading numpy-2.1.3-cp311-cp311-win_amd64.whl.metadata (60 kB)\n",
      "     ---------------------------------------- 0.0/60.8 kB ? eta -:--:--\n",
      "     ---------------------------------------- 60.8/60.8 kB 3.2 MB/s eta 0:00:00\n",
      "Requirement already satisfied: threadpoolctl in c:\\programdata\\anaconda3\\lib\\site-packages (2.2.0)\n",
      "Collecting threadpoolctl\n",
      "  Obtaining dependency information for threadpoolctl from https://files.pythonhosted.org/packages/4b/2c/ffbf7a134b9ab11a67b0cf0726453cedd9c5043a4fe7a35d1cefa9a1bcfb/threadpoolctl-3.5.0-py3-none-any.whl.metadata\n",
      "  Downloading threadpoolctl-3.5.0-py3-none-any.whl.metadata (13 kB)\n",
      "Requirement already satisfied: scipy>=1.6.0 in c:\\users\\ekim298\\appdata\\roaming\\python\\python311\\site-packages (from scikit-learn) (1.11.4)\n",
      "Requirement already satisfied: joblib>=1.2.0 in c:\\programdata\\anaconda3\\lib\\site-packages (from scikit-learn) (1.2.0)\n",
      "Collecting numpy\n",
      "  Obtaining dependency information for numpy from https://files.pythonhosted.org/packages/3f/6b/5610004206cf7f8e7ad91c5a85a8c71b2f2f8051a0c0c4d5916b76d6cbb2/numpy-1.26.4-cp311-cp311-win_amd64.whl.metadata\n",
      "  Using cached numpy-1.26.4-cp311-cp311-win_amd64.whl.metadata (61 kB)\n",
      "Downloading scikit_learn-1.5.2-cp311-cp311-win_amd64.whl (11.0 MB)\n",
      "   ---------------------------------------- 0.0/11.0 MB ? eta -:--:--\n",
      "   ---- ----------------------------------- 1.1/11.0 MB 18.0 MB/s eta 0:00:01\n",
      "   --------- ------------------------------ 2.5/11.0 MB 26.7 MB/s eta 0:00:01\n",
      "   -------------- ------------------------- 3.9/11.0 MB 27.6 MB/s eta 0:00:01\n",
      "   ----------------- ---------------------- 4.8/11.0 MB 27.7 MB/s eta 0:00:01\n",
      "   ------------------- -------------------- 5.4/11.0 MB 24.7 MB/s eta 0:00:01\n",
      "   ------------------------ --------------- 6.8/11.0 MB 25.6 MB/s eta 0:00:01\n",
      "   ------------------------------- -------- 8.5/11.0 MB 27.3 MB/s eta 0:00:01\n",
      "   ------------------------------------ --- 10.1/11.0 MB 28.1 MB/s eta 0:00:01\n",
      "   ---------------------------------------  11.0/11.0 MB 29.8 MB/s eta 0:00:01\n",
      "   ---------------------------------------- 11.0/11.0 MB 25.2 MB/s eta 0:00:00\n",
      "Downloading threadpoolctl-3.5.0-py3-none-any.whl (18 kB)\n",
      "Using cached numpy-1.26.4-cp311-cp311-win_amd64.whl (15.8 MB)\n",
      "Installing collected packages: threadpoolctl, numpy, scikit-learn\n",
      "  Attempting uninstall: numpy\n",
      "    Found existing installation: numpy 1.24.4\n",
      "    Uninstalling numpy-1.24.4:\n",
      "      Successfully uninstalled numpy-1.24.4\n"
     ]
    },
    {
     "name": "stderr",
     "output_type": "stream",
     "text": [
      "  WARNING: The script f2py.exe is installed in 'C:\\Users\\ekim298\\AppData\\Roaming\\Python\\Python311\\Scripts' which is not on PATH.\n",
      "  Consider adding this directory to PATH or, if you prefer to suppress this warning, use --no-warn-script-location.\n",
      "ERROR: Could not install packages due to an OSError: [WinError 5] Access is denied: 'C:\\\\Users\\\\ekim298\\\\AppData\\\\Roaming\\\\Python\\\\Python311\\\\site-packages\\\\~-mpy\\\\.libs\\\\libopenblas64__v0.3.21-gcc_10_3_0.dll'\n",
      "Check the permissions.\n",
      "\n"
     ]
    }
   ],
   "source": [
    "!pip install --upgrade scikit-learn numpy threadpoolctl"
   ]
  },
  {
   "cell_type": "code",
   "execution_count": 24,
   "metadata": {},
   "outputs": [],
   "source": [
    "import os\n",
    "os.environ[\"OMP_NUM_THREADS\"] = \"1\"  # Limit OpenMP to one thread\n",
    "os.environ[\"MKL_NUM_THREADS\"] = \"1\"  # Limit MKL to one thread\n"
   ]
  },
  {
   "cell_type": "code",
   "execution_count": 28,
   "metadata": {},
   "outputs": [
    {
     "name": "stdout",
     "output_type": "stream",
     "text": [
      "[0 0 0 0 0 0 0 0 0 0 0 0 0 0 0 0 0 0 0 0 1 1 1 1 1 1 1 1 1 1 1 1 1 1 1 1 1\n",
      " 1 1 1 2 2 2 2 2 2 2 2 2 2 2 2 2 2 2 2 2 2 2 2]\n",
      "col_0  count\n",
      "row_0       \n",
      "0         20\n",
      "1         20\n",
      "2         20\n"
     ]
    }
   ],
   "source": [
    "# Perform K-means clustering of the observations with K = 3. \n",
    "# How well do the clusters that you obtained in K-means clustering compare to the true class labels?\n",
    "# Hint: You can use the pd.crosstab() function in Python to compare the true class labels to the class \n",
    "# labels obtained by clustering. Be careful how you interpret the results: K-means clustering will \n",
    "# arbitrarily number the clusters, so you cannot simply check whether the true class labels and clustering \n",
    "# labels are the same.\n",
    "from scipy.cluster.vq import kmeans, vq\n",
    "centroids, _ = kmeans(df.to_numpy(), 3)\n",
    "clusters, _ = vq(df.to_numpy(), centroids)\n",
    "print(clusters)\n",
    "\n",
    "# Compare the true class labels to the class labels obtained by clustering\n",
    "print(pd.crosstab(clusters, columns='count'))\n",
    "\n",
    "# The clusters obtained in K-means clustering are not the same as the true class labels."
   ]
  },
  {
   "cell_type": "code",
   "execution_count": null,
   "metadata": {},
   "outputs": [
    {
     "name": "stdout",
     "output_type": "stream",
     "text": [
      "[1 1 1 1 1 1 1 1 1 1 1 1 1 1 1 1 1 1 1 1 0 0 0 0 0 0 0 0 0 0 0 0 0 0 0 0 0\n",
      " 0 0 0 0 0 0 0 0 0 0 0 0 0 0 0 0 0 0 0 0 0 0 0]\n",
      "col_0  count\n",
      "row_0       \n",
      "0         40\n",
      "1         20\n"
     ]
    }
   ],
   "source": [
    "# Perform K-means clustering with K = 2. Describe your results.\n",
    "centroids, _ = kmeans(df.to_numpy(), 2)\n",
    "clusters, _ = vq(df.to_numpy(), centroids)\n",
    "print(clusters)\n",
    "\n",
    "# Compare the true class labels to the class labels obtained by clustering\n",
    "print(pd.crosstab(clusters, columns='count'))\n",
    "\n",
    "# This result is understandable because the data was generated with three classes,\n",
    "# with the first two classes being more similar to each other than the third class."
   ]
  },
  {
   "cell_type": "code",
   "execution_count": null,
   "metadata": {},
   "outputs": [
    {
     "name": "stdout",
     "output_type": "stream",
     "text": [
      "[1 2 2 2 2 2 2 2 2 2 2 2 2 2 2 2 2 2 2 2 3 3 3 3 3 3 3 3 3 3 3 3 3 3 3 3 3\n",
      " 3 3 3 0 0 0 0 0 0 0 0 0 0 0 0 0 0 0 0 0 0 0 0]\n",
      "col_0  count\n",
      "row_0       \n",
      "0         20\n",
      "1          1\n",
      "2         19\n",
      "3         20\n"
     ]
    }
   ],
   "source": [
    "# Perform K-means clustering with K = 4. Describe your results.\n",
    "centroids, _ = kmeans(df.to_numpy(), 4)\n",
    "clusters, _ = vq(df.to_numpy(), centroids)\n",
    "print(clusters)\n",
    "\n",
    "# Compare the true class labels to the class labels obtained by clustering\n",
    "print(pd.crosstab(clusters, columns='count'))\n",
    "# The second class was split into two clusters, while the other two classes remained the same.\n"
   ]
  },
  {
   "cell_type": "code",
   "execution_count": null,
   "metadata": {},
   "outputs": [
    {
     "name": "stdout",
     "output_type": "stream",
     "text": [
      "[1 1 1 1 1 1 1 1 1 1 1 1 1 1 1 1 1 1 1 1 0 0 0 0 0 0 0 0 0 0 0 0 0 0 0 0 0\n",
      " 0 0 0 2 2 2 2 2 2 2 2 2 2 2 2 2 2 2 2 2 2 2 2]\n",
      "col_0  count\n",
      "row_0       \n",
      "0         20\n",
      "1         20\n",
      "2         20\n"
     ]
    }
   ],
   "source": [
    "# Now perform K-means clustering with K = 3 on the first two principal component score vectors, \n",
    "# rather than on the raw data. That is, perform K-means clustering on the 60 × 2 matrix of which \n",
    "# the first column is the first principal component score vector, and the second column is the second \n",
    "# principal component score vector. Comment on the results.\n",
    "pca = PCA(n_components=2)\n",
    "pca.fit(df)\n",
    "scores = pca.transform(df)\n",
    "\n",
    "centroids, _ = kmeans(scores, 3)\n",
    "clusters, _ = vq(scores, centroids)\n",
    "print(clusters)\n",
    "\n",
    "# Compare the true class labels to the class labels obtained by clustering\n",
    "print(pd.crosstab(clusters, columns='count'))\n"
   ]
  },
  {
   "cell_type": "code",
   "execution_count": null,
   "metadata": {},
   "outputs": [
    {
     "name": "stdout",
     "output_type": "stream",
     "text": [
      "[[-0.654547   -1.08141528 -1.04348971 ... -1.02862967 -1.70306332\n",
      "  -1.36122962]\n",
      " [-1.44672498 -1.08524189 -1.4829173  ... -0.74204562 -1.18794015\n",
      "  -1.17347668]\n",
      " [-0.61907175 -1.58603596 -1.70702917 ... -0.93213559 -1.61488495\n",
      "  -1.43723254]\n",
      " ...\n",
      " [ 1.4046524   1.10343472  0.97662501 ...  1.08315869  1.0147741\n",
      "   0.45619246]\n",
      " [ 0.80892836  0.98322886  0.91522586 ...  0.93675524  0.63462096\n",
      "   1.27085611]\n",
      " [ 0.78268936  1.16025744  0.94283971 ...  0.9693431   0.78299016\n",
      "   1.12251835]]\n",
      "[2 2 2 2 2 2 2 2 2 2 2 2 2 2 2 2 2 2 2 2 1 1 1 1 1 1 1 1 1 1 1 1 1 1 1 1 1\n",
      " 1 1 1 0 0 0 0 0 0 0 0 0 0 0 0 0 0 0 0 0 0 0 0]\n",
      "col_0  count\n",
      "row_0       \n",
      "0         20\n",
      "1         20\n",
      "2         20\n"
     ]
    }
   ],
   "source": [
    "# Using the StandardScaler() estimator, perform K-means clustering with K = 3 on the data after scaling \n",
    "# each variable to have standard deviation one. How do these results compare to those obtained in (b)? Explain.\n",
    "# The results are the same as in (b) because K-means clustering is invariant to linear transformations of the data.\n",
    "from sklearn.preprocessing import StandardScaler\n",
    "\n",
    "scaler = StandardScaler()\n",
    "df_scaled = scaler.fit_transform(df)\n",
    "print(df_scaled)\n",
    "\n",
    "centroids, _ = kmeans(df_scaled, 3)\n",
    "clusters, _ = vq(df_scaled, centroids)\n",
    "print(clusters)\n",
    "\n",
    "# Compare the true class labels to the class labels obtained by clustering\n",
    "print(pd.crosstab(clusters, columns='count'))\n"
   ]
  }
 ],
 "metadata": {
  "kernelspec": {
   "display_name": "base",
   "language": "python",
   "name": "python3"
  },
  "language_info": {
   "codemirror_mode": {
    "name": "ipython",
    "version": 3
   },
   "file_extension": ".py",
   "mimetype": "text/x-python",
   "name": "python",
   "nbconvert_exporter": "python",
   "pygments_lexer": "ipython3",
   "version": "3.11.4"
  }
 },
 "nbformat": 4,
 "nbformat_minor": 2
}
