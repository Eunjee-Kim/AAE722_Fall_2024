{
 "cells": [
  {
   "cell_type": "markdown",
   "metadata": {},
   "source": [
    "Questions:\n",
    "# 1. We want to check the accuracy of a linear regression model (OLS) with bootstrap. Use\n",
    "the College dataset, with Grad.Rate as the outcome variable, and Accept as the predictor.\n",
    "Use 0 as seed everywhere to make it replicable, points will be deducted if not. 5pt.\n",
    "\n",
    "Hint for how I structured this: \n",
    "\n",
    "define a bootstrap standard errors function, \n",
    "\n",
    "define a bootstrap OLS\n",
    "function, define a partial of the bootstrap OLS function, \n",
    "\n",
    "use the bootstrap standard errors function with the partial bootstrap OLS function to get the bootstrap estimated SE, \n",
    "\n",
    "and lastly estimate a univariate OLS and use print(summarize(results)) to see the SE estimated by OLS.\n",
    "\n",
    "Hint for what output should be:\n",
    "\n",
    "intercept 0.783696\n",
    "\n",
    "Accept 0.000180\n",
    "\n",
    "coef std err t P>|t|\n",
    "\n",
    "Intercept 64.5110 0.797 80.915 0.000\n",
    "\n",
    "Accept 0.0005 0.000 1.878 0.061"
   ]
  },
  {
   "cell_type": "code",
   "execution_count": 1,
   "metadata": {},
   "outputs": [
    {
     "name": "stderr",
     "output_type": "stream",
     "text": [
      "C:\\Users\\ekim298\\AppData\\Roaming\\Python\\Python311\\site-packages\\pandas\\core\\arrays\\masked.py:60: UserWarning: Pandas requires version '1.3.6' or newer of 'bottleneck' (version '1.3.5' currently installed).\n",
      "  from pandas.core import (\n"
     ]
    }
   ],
   "source": [
    "import numpy as np\n",
    "import statsmodels.api as sm\n",
    "from ISLP import load_data\n",
    "from ISLP.models import (ModelSpec as MS,\n",
    "                         summarize,\n",
    "                         poly)\n",
    "from sklearn.model_selection import train_test_split\n",
    "\n",
    "from functools import partial\n",
    "from sklearn.model_selection import \\\n",
    "     (cross_validate,\n",
    "      KFold,\n",
    "      ShuffleSplit)\n",
    "from sklearn.base import clone\n",
    "from ISLP.models import sklearn_sm\n"
   ]
  },
  {
   "cell_type": "code",
   "execution_count": 2,
   "metadata": {},
   "outputs": [
    {
     "name": "stdout",
     "output_type": "stream",
     "text": [
      "Index(['Unnamed: 0', 'Private', 'Apps', 'Accept', 'Enroll', 'Top10perc',\n",
      "       'Top25perc', 'F.Undergrad', 'P.Undergrad', 'Outstate', 'Room.Board',\n",
      "       'Books', 'Personal', 'PhD', 'Terminal', 'S.F.Ratio', 'perc.alumni',\n",
      "       'Expend', 'Grad.Rate'],\n",
      "      dtype='object')\n"
     ]
    }
   ],
   "source": [
    "# Load data: college\n",
    "import pandas as pd\n",
    "# 3\n",
    "df = pd.read_csv('College.csv')\n",
    "df\n",
    "print(df.columns)"
   ]
  },
  {
   "cell_type": "code",
   "execution_count": 3,
   "metadata": {},
   "outputs": [
    {
     "data": {
      "text/plain": [
       "294.4774085689979"
      ]
     },
     "execution_count": 3,
     "metadata": {},
     "output_type": "execute_result"
    }
   ],
   "source": [
    "accept_model = sklearn_sm(sm.OLS,\n",
    "                      MS(['Accept']))\n",
    "X, Y = df.drop(columns=['Grad.Rate']), df['Grad.Rate']\n",
    "cv_results = cross_validate(accept_model,\n",
    "                            X,\n",
    "                            Y,\n",
    "                            cv=df.shape[0])\n",
    "cv_err = np.mean(cv_results['test_score'])\n",
    "cv_err\n",
    "# default: 5-fold cross validation. ISLP.sklearn_sm.\n",
    "# MS: ModelSpec developed by the authors. Automatically add constant term."
   ]
  },
  {
   "cell_type": "code",
   "execution_count": 4,
   "metadata": {},
   "outputs": [],
   "source": [
    "def boot_SE(func,\n",
    "            Data,\n",
    "            n=None,\n",
    "            B=1000,\n",
    "            seed=0):\n",
    "    rng = np.random.default_rng(seed)\n",
    "    first_, second_ = 0, 0\n",
    "    n = n or Data.shape[0]\n",
    "    for _ in range(B):\n",
    "        idx = rng.choice(Data.index,\n",
    "                         n,\n",
    "                         replace=True)\n",
    "        value = func(Data, idx)\n",
    "        first_ += value\n",
    "        second_ += value**2\n",
    "    return np.sqrt(second_ / B - (first_ / B)**2)"
   ]
  },
  {
   "cell_type": "code",
   "execution_count": null,
   "metadata": {},
   "outputs": [],
   "source": [
    "# alpha_SE = boot_SE(alpha_func,\n",
    "#                    Portfolio,\n",
    "#                    B=1000,\n",
    "#                    seed=0)\n",
    "# alpha_SE"
   ]
  },
  {
   "cell_type": "code",
   "execution_count": 5,
   "metadata": {},
   "outputs": [],
   "source": [
    "def boot_OLS(model_matrix, response, D, idx):\n",
    "    D_ = D.loc[idx]\n",
    "    Y_ = D_[response]\n",
    "    X_ = clone(model_matrix).fit_transform(D_)\n",
    "    return sm.OLS(Y_, X_).fit().params"
   ]
  },
  {
   "cell_type": "code",
   "execution_count": 6,
   "metadata": {},
   "outputs": [],
   "source": [
    "accept_func = partial(boot_OLS, MS(['Accept']), 'Grad.Rate')\n",
    "# fix the first two arguments of boot_OLS"
   ]
  },
  {
   "cell_type": "code",
   "execution_count": 7,
   "metadata": {},
   "outputs": [
    {
     "data": {
      "text/plain": [
       "array([[ 6.51651592e+01,  2.33102323e-04],\n",
       "       [ 6.32527952e+01,  5.49088126e-04],\n",
       "       [ 6.29716177e+01,  7.96768931e-04],\n",
       "       [ 6.30566053e+01,  5.80610400e-04],\n",
       "       [ 6.35605670e+01,  7.15719559e-04],\n",
       "       [ 6.46067733e+01,  1.74216373e-04],\n",
       "       [ 6.49647352e+01,  5.37439256e-04],\n",
       "       [ 6.53941110e+01,  5.38808057e-04],\n",
       "       [ 6.51972080e+01,  3.76260375e-04],\n",
       "       [ 6.53435441e+01, -2.91636119e-04]])"
      ]
     },
     "execution_count": 7,
     "metadata": {},
     "output_type": "execute_result"
    }
   ],
   "source": [
    "rng = np.random.default_rng(0)\n",
    "np.array([accept_func(df,\n",
    "          rng.choice(df.index,\n",
    "                     392,\n",
    "                     replace=True)) for _ in range(10)])\n"
   ]
  },
  {
   "cell_type": "code",
   "execution_count": 8,
   "metadata": {},
   "outputs": [
    {
     "data": {
      "text/plain": [
       "intercept    0.701273\n",
       "Accept       0.000168\n",
       "dtype: float64"
      ]
     },
     "execution_count": 8,
     "metadata": {},
     "output_type": "execute_result"
    }
   ],
   "source": [
    "accept_se = boot_SE(accept_func,\n",
    "                df,\n",
    "                B=1000,\n",
    "                seed=0)\n",
    "accept_se"
   ]
  },
  {
   "cell_type": "code",
   "execution_count": 10,
   "metadata": {},
   "outputs": [
    {
     "name": "stdout",
     "output_type": "stream",
     "text": [
      "              coef  std err       t  P>|t|\n",
      "intercept  64.5110    0.797  80.915  0.000\n",
      "Accept      0.0005    0.000   1.878  0.061\n"
     ]
    }
   ],
   "source": [
    "accept_model.fit(df, df['Grad.Rate'])\n",
    "model_se = summarize(accept_model.results_)['std err']\n",
    "model_se\n",
    "print(summarize(accept_model.results_))"
   ]
  }
 ],
 "metadata": {
  "kernelspec": {
   "display_name": "base",
   "language": "python",
   "name": "python3"
  },
  "language_info": {
   "codemirror_mode": {
    "name": "ipython",
    "version": 3
   },
   "file_extension": ".py",
   "mimetype": "text/x-python",
   "name": "python",
   "nbconvert_exporter": "python",
   "pygments_lexer": "ipython3",
   "version": "3.11.4"
  }
 },
 "nbformat": 4,
 "nbformat_minor": 2
}
