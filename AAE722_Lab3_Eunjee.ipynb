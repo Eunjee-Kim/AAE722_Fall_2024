{
 "cells": [
  {
   "cell_type": "code",
   "execution_count": 5,
   "metadata": {},
   "outputs": [],
   "source": [
    "import numpy as np\n",
    "import pandas as pd\n",
    "from matplotlib.pyplot import subplots\n",
    "from ISLP import load_data\n",
    "from ISLP.models import (ModelSpec as MS,\n",
    "                         summarize,\n",
    "                         poly)\n",
    "import statsmodels.api as sm\n",
    "from statsmodels.stats.outliers_influence \\\n",
    "     import variance_inflation_factor as VIF\n",
    "from statsmodels.stats.anova import anova_lm"
   ]
  },
  {
   "cell_type": "markdown",
   "metadata": {},
   "source": [
    "1. Fit and Summarize (remember to print) the results from an OLS model where the outcome is enroll and the predictor being accept. \n",
    "1.a. Print the confidence and prediction interval for the first 5 observations.\n",
    "1.b. Plot enroll and accept, with the predicted line. \n",
    "\n",
    "2. Fit and Summarize the results from an OLS model where the outcome is enroll and the predictor are accept and expend.\n",
    "2.a. Compute the variance inflation factor for each predictor. "
   ]
  },
  {
   "cell_type": "code",
   "execution_count": 6,
   "metadata": {},
   "outputs": [
    {
     "name": "stdout",
     "output_type": "stream",
     "text": [
      "Index(['Unnamed: 0', 'Private', 'Apps', 'Accept', 'Enroll', 'Top10perc',\n",
      "       'Top25perc', 'F.Undergrad', 'P.Undergrad', 'Outstate', 'Room.Board',\n",
      "       'Books', 'Personal', 'PhD', 'Terminal', 'S.F.Ratio', 'perc.alumni',\n",
      "       'Expend', 'Grad.Rate'],\n",
      "      dtype='object')\n"
     ]
    }
   ],
   "source": [
    "# Load data: college\n",
    "import pandas as pd\n",
    "# 3\n",
    "df = pd.read_csv('College.csv')\n",
    "df\n",
    "print(df.columns)"
   ]
  },
  {
   "cell_type": "code",
   "execution_count": 8,
   "metadata": {},
   "outputs": [
    {
     "name": "stdout",
     "output_type": "stream",
     "text": [
      "                            OLS Regression Results                            \n",
      "==============================================================================\n",
      "Dep. Variable:                 Enroll   R-squared:                       0.831\n",
      "Model:                            OLS   Adj. R-squared:                  0.831\n",
      "Method:                 Least Squares   F-statistic:                     3813.\n",
      "Date:                Mon, 23 Sep 2024   Prob (F-statistic):          1.67e-301\n",
      "Time:                        09:56:37   Log-Likelihood:                -5721.4\n",
      "No. Observations:                 777   AIC:                         1.145e+04\n",
      "Df Residuals:                     775   BIC:                         1.146e+04\n",
      "Df Model:                           1                                         \n",
      "Covariance Type:            nonrobust                                         \n",
      "==============================================================================\n",
      "                 coef    std err          t      P>|t|      [0.025      0.975]\n",
      "------------------------------------------------------------------------------\n",
      "intercept     82.3021     17.765      4.633      0.000      47.429     117.175\n",
      "Accept         0.3456      0.006     61.750      0.000       0.335       0.357\n",
      "==============================================================================\n",
      "Omnibus:                      293.016   Durbin-Watson:                   1.691\n",
      "Prob(Omnibus):                  0.000   Jarque-Bera (JB):            44142.694\n",
      "Skew:                          -0.550   Prob(JB):                         0.00\n",
      "Kurtosis:                      39.909   Cond. No.                     4.11e+03\n",
      "==============================================================================\n",
      "\n",
      "Notes:\n",
      "[1] Standard Errors assume that the covariance matrix of the errors is correctly specified.\n",
      "[2] The condition number is large, 4.11e+03. This might indicate that there are\n",
      "strong multicollinearity or other numerical problems.\n"
     ]
    }
   ],
   "source": [
    "# 1 outcome: Enroll, predictor: Accept\n",
    "y = df['Enroll']\n",
    "X = pd.DataFrame({'intercept': np.ones(df.shape[0]),\n",
    "                  'Accept': df['Accept']})\n",
    "X[:5]\n",
    "model = sm.OLS(y, X)\n",
    "results = model.fit()\n",
    "print(results.summary())"
   ]
  },
  {
   "cell_type": "code",
   "execution_count": 9,
   "metadata": {},
   "outputs": [
    {
     "name": "stdout",
     "output_type": "stream",
     "text": [
      "   intercept  Accept\n",
      "0        1.0    1232\n",
      "1        1.0    1924\n",
      "2        1.0    1097\n",
      "3        1.0     349\n",
      "4        1.0     146\n",
      "predicted mean [508.0642647  747.20989214 461.41013218 202.91167939 132.75768753]\n",
      "confidence interval [[479.79887554 536.32965386]\n",
      " [720.27853777 774.14124651]\n",
      " [432.65647858 490.16378578]\n",
      " [170.34255744 235.48080134]\n",
      " [ 98.88221955 166.6331555 ]]\n",
      "prediction interval [[-242.61040497 1258.73893436]\n",
      " [  -3.41573046 1497.83551474]\n",
      " [-289.28308083 1212.10334518]\n",
      " [-547.93735681  953.76071559]\n",
      " [-618.14914743  883.66452248]]\n"
     ]
    }
   ],
   "source": [
    "# 1.a. Print the confidence and prediction interval for the first 5 observations.\n",
    "design = MS(['Accept'])\n",
    "X = design.fit_transform(df)\n",
    "newX = X[:5]\n",
    "print(newX)\n",
    "\n",
    "new_predictions = results.get_prediction(newX); \n",
    "pred_mean = new_predictions.predicted_mean \n",
    "print('predicted mean',pred_mean)\n",
    "\n",
    "confidence_int = new_predictions.conf_int(alpha=0.05)\n",
    "prediction_int = new_predictions.conf_int(obs=True, alpha=0.05)\n",
    "print('confidence interval',confidence_int)\n",
    "print('prediction interval',prediction_int)\n"
   ]
  },
  {
   "cell_type": "code",
   "execution_count": 10,
   "metadata": {},
   "outputs": [
    {
     "name": "stdout",
     "output_type": "stream",
     "text": [
      "intercept    82.302107\n",
      "Accept        0.345586\n",
      "dtype: float64\n"
     ]
    }
   ],
   "source": [
    "print(results.params)"
   ]
  },
  {
   "cell_type": "code",
   "execution_count": 11,
   "metadata": {},
   "outputs": [
    {
     "data": {
      "image/png": "[encoded data removed]",
      "text/plain": [
       "<Figure size 640x480 with 1 Axes>"
      ]
     },
     "metadata": {},
     "output_type": "display_data"
    }
   ],
   "source": [
    "# 1.b. Plot enroll and accept, with the predicted line. \n",
    "def abline(ax, b, m, *args, **kwargs):\n",
    "    \"Add a line with slope m and intercept b to ax\"\n",
    "    xlim = ax.get_xlim()\n",
    "    ylim = [m * xlim[0] + b, m * xlim[1] + b]\n",
    "    ax.plot(xlim, ylim, *args, **kwargs)\n",
    "\n",
    "ax = df.plot.scatter('Accept', 'Enroll')\n",
    "abline(ax,\n",
    "       results.params.iloc[0],\n",
    "       results.params.iloc[1],\n",
    "       'r--',\n",
    "       linewidth=3)"
   ]
  },
  {
   "cell_type": "code",
   "execution_count": 12,
   "metadata": {},
   "outputs": [
    {
     "name": "stdout",
     "output_type": "stream",
     "text": [
      "               coef  std err       t  P>|t|\n",
      "intercept  163.9809   29.783   5.506  0.000\n",
      "Accept       0.3480    0.006  62.109  0.000\n",
      "Expend      -0.0090    0.003  -3.404  0.001\n"
     ]
    }
   ],
   "source": [
    "# 2. Fit and Summarize the results from an OLS model where the outcome is enroll and the predictor are accept and expend.\n",
    "X = MS(['Accept', 'Expend']).fit_transform(df)\n",
    "model1 = sm.OLS(y, X)\n",
    "results1 = model1.fit()\n",
    "print(summarize(results1))"
   ]
  },
  {
   "cell_type": "code",
   "execution_count": 13,
   "metadata": {},
   "outputs": [
    {
     "name": "stdout",
     "output_type": "stream",
     "text": [
      "           vif\n",
      "Accept  1.0158\n",
      "Expend  1.0158\n"
     ]
    }
   ],
   "source": [
    "# 2.a. Compute the variance inflation factor for each predictor. \n",
    "vals = [VIF(X, i)\n",
    "        for i in range(1, X.shape[1])]\n",
    "vif = pd.DataFrame({'vif':vals},\n",
    "                   index=X.columns[1:])\n",
    "print(vif)\n",
    "#The variance inflation factor is a way to assess multicollinearity. Can read more about it on pg 108 of textbook."
   ]
  }
 ],
 "metadata": {
  "kernelspec": {
   "display_name": "base",
   "language": "python",
   "name": "python3"
  },
  "language_info": {
   "codemirror_mode": {
    "name": "ipython",
    "version": 3
   },
   "file_extension": ".py",
   "mimetype": "text/x-python",
   "name": "python",
   "nbconvert_exporter": "python",
   "pygments_lexer": "ipython3",
   "version": "3.11.4"
  }
 },
 "nbformat": 4,
 "nbformat_minor": 2
}
